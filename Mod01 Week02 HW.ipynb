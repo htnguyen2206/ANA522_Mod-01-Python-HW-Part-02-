{
 "cells": [
  {
   "cell_type": "code",
   "execution_count": 2,
   "id": "59110c6b-433c-496a-83cc-2e0a797df496",
   "metadata": {},
   "outputs": [
    {
     "name": "stdout",
     "output_type": "stream",
     "text": [
      "12 is divisible by 3\n",
      "12 is Not divisible by 9\n"
     ]
    }
   ],
   "source": [
    "# We are trying to solve: Is number X divisible by number Y\n",
    "# The idea is to use remainder (mod) operator: X%Y\n",
    "# and, decide if the remainder value is zero (that is divisible)\n",
    "X =12\n",
    "Y = 3\n",
    "if X%Y == 0:\n",
    "    print('12 is divisible by 3')\n",
    "else:\n",
    "    print('12 is Not divisible by 3')\n",
    "\n",
    "    \n"
   ]
  },
  {
   "cell_type": "code",
   "execution_count": 3,
   "id": "54b71784-5139-472e-bb46-c32b305d34fb",
   "metadata": {},
   "outputs": [
    {
     "name": "stdout",
     "output_type": "stream",
     "text": [
      "12 is Not divisible by 9\n"
     ]
    }
   ],
   "source": [
    "X =12\n",
    "Y = 9\n",
    "if X%Y == 0:\n",
    "    print('12 is divisible by 9')\n",
    "else:\n",
    "    print('12 is Not divisible by 9')"
   ]
  },
  {
   "cell_type": "code",
   "execution_count": 7,
   "id": "d0365e58-ae19-4ced-8ea3-bdf508e6c94c",
   "metadata": {},
   "outputs": [
    {
     "name": "stdout",
     "output_type": "stream",
     "text": [
      "12 is divisible by 1\n",
      "12 is divisible by 2\n",
      "12 is divisible by 3\n",
      "12 is divisible by 4\n",
      "12 is NOT divisible by 5\n",
      "12 is divisible by 6\n",
      "12 is NOT divisible by 7\n",
      "12 is NOT divisible by 8\n",
      "12 is NOT divisible by 9\n",
      "12 is NOT divisible by 10\n",
      "12 is NOT divisible by 11\n",
      "12 is divisible by 12\n"
     ]
    }
   ],
   "source": [
    "# In the case that we encounter the same question frequently,\n",
    "# it is better to make it a function, so that we can reuse it\n",
    "def isDivisible(a,b):\n",
    "    if a%b == 0:\n",
    "        return True\n",
    "    else:\n",
    "        return False\n",
    "\n",
    "\n",
    "aNumber = 12\n",
    "for i in range(1, aNumber+1): # i ranges from 1 to 12\n",
    "    if isDivisible(aNumber,i): # call the function to get answer\n",
    "        print('{0:d} is divisible by {1:d}'.format(aNumber,i))\n",
    "    else:\n",
    "        print('{0:d} is NOT divisible by {1:d}'.format(aNumber,i))\n"
   ]
  },
  {
   "cell_type": "code",
   "execution_count": 8,
   "id": "4567b5ba-4d11-472e-884c-bf816c1a7a66",
   "metadata": {},
   "outputs": [
    {
     "ename": "ZeroDivisionError",
     "evalue": "integer division or modulo by zero",
     "output_type": "error",
     "traceback": [
      "\u001b[0;31m---------------------------------------------------------------------------\u001b[0m",
      "\u001b[0;31mZeroDivisionError\u001b[0m                         Traceback (most recent call last)",
      "\u001b[0;32m<ipython-input-8-4a7037af8934>\u001b[0m in \u001b[0;36m<module>\u001b[0;34m\u001b[0m\n\u001b[1;32m      4\u001b[0m \u001b[0mx\u001b[0m\u001b[0;34m=\u001b[0m\u001b[0;36m12\u001b[0m\u001b[0;34m\u001b[0m\u001b[0;34m\u001b[0m\u001b[0m\n\u001b[1;32m      5\u001b[0m \u001b[0my\u001b[0m\u001b[0;34m=\u001b[0m\u001b[0;36m0\u001b[0m\u001b[0;34m\u001b[0m\u001b[0;34m\u001b[0m\u001b[0m\n\u001b[0;32m----> 6\u001b[0;31m \u001b[0;32mif\u001b[0m \u001b[0misDivisible\u001b[0m\u001b[0;34m(\u001b[0m\u001b[0mx\u001b[0m\u001b[0;34m,\u001b[0m\u001b[0my\u001b[0m\u001b[0;34m)\u001b[0m\u001b[0;34m:\u001b[0m\u001b[0;34m\u001b[0m\u001b[0;34m\u001b[0m\u001b[0m\n\u001b[0m\u001b[1;32m      7\u001b[0m     \u001b[0mprint\u001b[0m\u001b[0;34m(\u001b[0m\u001b[0;34m'{0:d} is divisible by {1:d}'\u001b[0m\u001b[0;34m.\u001b[0m\u001b[0mformat\u001b[0m\u001b[0;34m(\u001b[0m\u001b[0mx\u001b[0m\u001b[0;34m,\u001b[0m\u001b[0my\u001b[0m\u001b[0;34m)\u001b[0m\u001b[0;34m)\u001b[0m\u001b[0;34m\u001b[0m\u001b[0;34m\u001b[0m\u001b[0m\n\u001b[1;32m      8\u001b[0m \u001b[0;32melse\u001b[0m\u001b[0;34m:\u001b[0m\u001b[0;34m\u001b[0m\u001b[0;34m\u001b[0m\u001b[0m\n",
      "\u001b[0;32m<ipython-input-7-8b4b2b7ca165>\u001b[0m in \u001b[0;36misDivisible\u001b[0;34m(a, b)\u001b[0m\n\u001b[1;32m      2\u001b[0m \u001b[0;31m# it is better to make it a function, so that we can reuse it\u001b[0m\u001b[0;34m\u001b[0m\u001b[0;34m\u001b[0m\u001b[0;34m\u001b[0m\u001b[0m\n\u001b[1;32m      3\u001b[0m \u001b[0;32mdef\u001b[0m \u001b[0misDivisible\u001b[0m\u001b[0;34m(\u001b[0m\u001b[0ma\u001b[0m\u001b[0;34m,\u001b[0m\u001b[0mb\u001b[0m\u001b[0;34m)\u001b[0m\u001b[0;34m:\u001b[0m\u001b[0;34m\u001b[0m\u001b[0;34m\u001b[0m\u001b[0m\n\u001b[0;32m----> 4\u001b[0;31m     \u001b[0;32mif\u001b[0m \u001b[0ma\u001b[0m\u001b[0;34m%\u001b[0m\u001b[0mb\u001b[0m \u001b[0;34m==\u001b[0m \u001b[0;36m0\u001b[0m\u001b[0;34m:\u001b[0m\u001b[0;34m\u001b[0m\u001b[0;34m\u001b[0m\u001b[0m\n\u001b[0m\u001b[1;32m      5\u001b[0m         \u001b[0;32mreturn\u001b[0m \u001b[0;32mTrue\u001b[0m\u001b[0;34m\u001b[0m\u001b[0;34m\u001b[0m\u001b[0m\n\u001b[1;32m      6\u001b[0m     \u001b[0;32melse\u001b[0m\u001b[0;34m:\u001b[0m\u001b[0;34m\u001b[0m\u001b[0;34m\u001b[0m\u001b[0m\n",
      "\u001b[0;31mZeroDivisionError\u001b[0m: integer division or modulo by zero"
     ]
    }
   ],
   "source": [
    "# If we are not careful, divisor can be zero at times\n",
    "# Mathematically it is impossible to carry that out\n",
    "# therefore, the ZeroDivisionError\n",
    "x=12\n",
    "y=0\n",
    "if isDivisible(x,y):\n",
    "    print('{0:d} is divisible by {1:d}'.format(x,y))\n",
    "else:\n",
    "    print('{0:d} is not divisible by {1:d}'.format(x,y))\n"
   ]
  },
  {
   "cell_type": "code",
   "execution_count": 12,
   "id": "75651c99-89e7-49db-8104-56a1b8ca7f4e",
   "metadata": {},
   "outputs": [
    {
     "name": "stdout",
     "output_type": "stream",
     "text": [
      "12 is not divisible by 0\n"
     ]
    }
   ],
   "source": [
    "# One way to fix it, is to make sure that would not happen\n",
    "# the remainder operation can not be carried out when the divisor is zero.\n",
    "# To differentiate, we create a new function of version 2\n",
    "def isDivisible2(a,b):\n",
    "    if b!=0:\n",
    "        if a%b == 0:\n",
    "            return True\n",
    "        else:\n",
    "            return False\n",
    "    else:\n",
    "            return False\n",
    "\n",
    "x=12\n",
    "y=0\n",
    "if isDivisible2(x,y):\n",
    "    print('{0:d} is divisible by {1:d}'.format(x,y))\n",
    "else:\n",
    "    print('{0:d} is not divisible by {1:d}'.format(x,y))\n"
   ]
  },
  {
   "cell_type": "code",
   "execution_count": 13,
   "id": "1cea4ffe-0c86-42ce-b912-c130006e96ab",
   "metadata": {},
   "outputs": [
    {
     "name": "stdout",
     "output_type": "stream",
     "text": [
      "12 is not divisible by 0\n"
     ]
    }
   ],
   "source": [
    "# Another way to put it, is to use the original function\n",
    "# but with an additional control statement as filter\n",
    "def isDivisible2(a,b):\n",
    "    if b!=0:\n",
    "        return isDivisible(a,b)\n",
    "    else:\n",
    "        return False\n",
    "    \n",
    "x=12\n",
    "y=0\n",
    "if isDivisible2(x,y):\n",
    "    print('{0:d} is divisible by {1:d}'.format(x,y))\n",
    "else:\n",
    "    print('{0:d} is not divisible by {1:d}'.format(x,y))\n"
   ]
  },
  {
   "cell_type": "code",
   "execution_count": null,
   "id": "f9986ba0-b0f9-4d63-b335-27470ba92512",
   "metadata": {},
   "outputs": [],
   "source": [
    "limit = 1_000 # set the limit\n",
    "numbers = [] # use numbers list to create a list with numbers from 1 to limit\n",
    "for i in range(0, limit+1):\n",
    "    numbers.append(i)\n",
    "numbers[1] = 0 # cross out 0\n",
    "p=2 # implicitly cross out 1\n",
    "while p < limit:\n",
    "    for i in range(p*2,limit+1,p):\n",
    "        numbers[i]=0 # cross out multiple of p\n",
    "p = p + 1\n",
    "while p < limit and numbers[p]==0:\n",
    "    p = p + 1 # try next number which had not been crossed out\n",
    "# the final list of all zeros and prime numbers\n",
    "print(numbers)\n",
    "\n",
    "#11 (a) Use list comprehension to remove zeros on the list, so that the list becomes :\n",
    "numbers.remove(0)\n",
    "print(numbers)\n",
    "\n"
   ]
  },
  {
   "cell_type": "code",
   "execution_count": null,
   "id": "62421c9f-875a-4e49-95d0-a275a7968533",
   "metadata": {},
   "outputs": [],
   "source": []
  },
  {
   "cell_type": "code",
   "execution_count": null,
   "id": "df633ce9-5c4b-4bf5-93a5-240ab83ab414",
   "metadata": {},
   "outputs": [],
   "source": []
  }
 ],
 "metadata": {
  "kernelspec": {
   "display_name": "ANA522 (default)",
   "language": "python",
   "name": "ada522"
  },
  "language_info": {
   "codemirror_mode": {
    "name": "ipython",
    "version": 3
   },
   "file_extension": ".py",
   "mimetype": "text/x-python",
   "name": "python",
   "nbconvert_exporter": "python",
   "pygments_lexer": "ipython3",
   "version": "3.8.5"
  }
 },
 "nbformat": 4,
 "nbformat_minor": 5
}
